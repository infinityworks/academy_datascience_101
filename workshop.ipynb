{
 "cells": [
  {
   "cell_type": "markdown",
   "metadata": {
    "collapsed": true,
    "pycharm": {
     "name": "#%% md\n"
    }
   },
   "source": [
    "# TODO\n",
    "* Deck\n",
    "    * What is Data Science?\n",
    "    * Why do we want to predict/understand things?\n",
    "    * What forms these things can take.\n",
    "* Here\n",
    "    * Intro to our example & linear regression\n",
    "    * Train a basic model\n",
    "    * Evaluate model & discuss other evaluation metrics\n",
    "    * Talk about deployment, potentially have one deployed they can hit with an API"
   ]
  },
  {
   "cell_type": "markdown",
   "source": [
    "# What are we doing here?\n",
    "This is the Infinityworks Data Science 101 workshop. We will be training a model to predict...*drum roll*...The weight of various star wars characters based on their other vital statistics.\n",
    "\n",
    "Don't say we didn't try to make this exciting!"
   ],
   "metadata": {
    "collapsed": false,
    "pycharm": {
     "name": "#%% md\n"
    }
   }
  },
  {
   "cell_type": "markdown",
   "source": [
    "## Wait, what is this sourcery? Am in an IDE here or what?\n",
    "This is a Jupyter Notebook. It's a standard bit of kit in Data Science circles. It's shite for proper code dev but there's few better tools for doing investigative coding and mixing it with notes and charts. If you want to learn a bit more then there's a link [here]().\n",
    "\n",
    "For now, just enjoy the ride and have a play. If, for example, you click on this text you can edit it as Markdown."
   ],
   "metadata": {
    "collapsed": false,
    "pycharm": {
     "name": "#%% md\n"
    }
   }
  },
  {
   "cell_type": "markdown",
   "source": [
    "TODO: Add the link to my notebook 101."
   ],
   "metadata": {
    "collapsed": false,
    "pycharm": {
     "name": "#%% md\n"
    }
   }
  },
  {
   "cell_type": "markdown",
   "source": [
    "### First things first, we need some libraries"
   ],
   "metadata": {
    "collapsed": false,
    "pycharm": {
     "name": "#%% md\n"
    }
   }
  },
  {
   "cell_type": "code",
   "execution_count": 5,
   "outputs": [],
   "source": [
    "import pandas as pd     # Standard Python data handling library. Lets you store tables (often called `DataFrames`)\n",
    "import seaborn as sns   # Plotting library, there's many to choose from but this is a stalwart\n",
    "\n",
    "# Sklearn is the standard Python stats tooling. It's...large and unwieldy but goes.\n",
    "from sklearn.linear_model import LinearRegression\n",
    "from sklearn.\n"
   ],
   "metadata": {
    "collapsed": false,
    "pycharm": {
     "name": "#%%\n"
    }
   }
  },
  {
   "cell_type": "markdown",
   "source": [
    "### Now, some data"
   ],
   "metadata": {
    "collapsed": false,
    "pycharm": {
     "name": "#%% md\n"
    }
   }
  },
  {
   "cell_type": "code",
   "execution_count": 3,
   "outputs": [
    {
     "data": {
      "text/plain": "                     name  height    mass     hair_color           skin_color  \\\n0          Luke Skywalker   172.0    77.0          blond                 fair   \n1                   C-3PO   167.0    75.0            NaN                 gold   \n2                   R2-D2    96.0    32.0            NaN          white, blue   \n3             Darth Vader   202.0   136.0           none                white   \n4             Leia Organa   150.0    49.0          brown                light   \n5               Owen Lars   178.0   120.0    brown, grey                light   \n6      Beru Whitesun lars   165.0    75.0          brown                light   \n7                   R5-D4    97.0    32.0            NaN           white, red   \n8       Biggs Darklighter   183.0    84.0          black                light   \n9          Obi-Wan Kenobi   182.0    77.0  auburn, white                 fair   \n10       Anakin Skywalker   188.0    84.0          blond                 fair   \n12              Chewbacca   228.0   112.0          brown                  NaN   \n13               Han Solo   180.0    80.0          brown                 fair   \n14                 Greedo   173.0    74.0            NaN                green   \n15  Jabba Desilijic Tiure   175.0  1358.0            NaN     green-tan, brown   \n16         Wedge Antilles   170.0    77.0          brown                 fair   \n17       Jek Tono Porkins   180.0   110.0          brown                 fair   \n18                   Yoda    66.0    17.0          white                green   \n19              Palpatine   170.0    75.0           grey                 pale   \n20              Boba Fett   183.0    78.2          black                 fair   \n21                  IG-88   200.0   140.0           none                metal   \n22                  Bossk   190.0   113.0           none                green   \n23       Lando Calrissian   177.0    79.0          black                 dark   \n24                  Lobot   175.0    79.0           none                light   \n25                 Ackbar   180.0    83.0           none         brown mottle   \n28  Wicket Systri Warrick    88.0    20.0          brown                brown   \n29              Nien Nunb   160.0    68.0           none                 grey   \n30           Qui-Gon Jinn   193.0    89.0          brown                 fair   \n31            Nute Gunray   191.0    90.0           none        mottled green   \n33          Jar Jar Binks   196.0    66.0           none               orange   \n34           Roos Tarpals   224.0    82.0           none                 grey   \n38                Sebulba   112.0    40.0           none            grey, red   \n41             Darth Maul   175.0    80.0           none                  red   \n43            Ayla Secura   178.0    55.0           none                 blue   \n44               Dud Bolt    94.0    45.0           none           blue, grey   \n46         Ben Quadinaros   163.0    65.0           none  grey, green, yellow   \n47             Mace Windu   188.0    84.0           none                 dark   \n48           Ki-Adi-Mundi   198.0    82.0          white                 pale   \n49              Kit Fisto   196.0    87.0           none                green   \n51             Adi Gallia   184.0    50.0           none                 dark   \n54               Plo Koon   188.0    80.0           none               orange   \n56           Gregar Typho   185.0    85.0          black                 dark   \n59      Poggle the Lesser   183.0    80.0           none                green   \n60        Luminara Unduli   170.0    56.2          black               yellow   \n61          Barriss Offee   166.0    50.0          black               yellow   \n63                  Dooku   193.0    80.0          white                 fair   \n65             Jango Fett   183.0    79.0          black                  tan   \n66             Zam Wesell   168.0    55.0         blonde  fair, green, yellow   \n67        Dexter Jettster   198.0   102.0           none                brown   \n68                Lama Su   229.0    88.0           none                 grey   \n71          Ratts Tyerell    79.0    15.0           none           grey, blue   \n73             Wat Tambor   193.0    48.0           none          green, grey   \n75               Shaak Ti   178.0    57.0           none     red, blue, white   \n76               Grievous   216.0   159.0           none         brown, white   \n77                Tarfful   234.0   136.0          brown                brown   \n78        Raymus Antilles   188.0    79.0          brown                light   \n79              Sly Moore   178.0    48.0           none                 pale   \n80             Tion Medon   206.0    80.0           none                 grey   \n86          Padmé Amidala   165.0    45.0          brown                light   \n\n        eye_color birth_year         gender       homeworld         species  \n0            blue      19BBY           male        Tatooine           Human  \n1          yellow     112BBY            NaN        Tatooine           Droid  \n2             red      33BBY            NaN           Naboo           Droid  \n3          yellow    41.9BBY           male        Tatooine           Human  \n4           brown      19BBY         female        Alderaan           Human  \n5            blue      52BBY           male        Tatooine           Human  \n6            blue      47BBY         female        Tatooine           Human  \n7             red        NaN            NaN        Tatooine           Droid  \n8           brown      24BBY           male        Tatooine           Human  \n9       blue-gray      57BBY           male         Stewjon           Human  \n10           blue    41.9BBY           male        Tatooine           Human  \n12           blue     200BBY           male        Kashyyyk         Wookiee  \n13          brown      29BBY           male        Corellia           Human  \n14          black      44BBY           male           Rodia          Rodian  \n15         orange     600BBY  hermaphrodite       Nal Hutta            Hutt  \n16          hazel      21BBY           male        Corellia           Human  \n17           blue        NaN           male      Bestine IV           Human  \n18          brown     896BBY           male             NaN  Yoda's species  \n19         yellow      82BBY           male           Naboo           Human  \n20          brown    31.5BBY           male          Kamino           Human  \n21            red      15BBY           none             NaN           Droid  \n22            red      53BBY           male       Trandosha      Trandoshan  \n23          brown      31BBY           male         Socorro           Human  \n24           blue      37BBY           male          Bespin           Human  \n25         orange      41BBY           male        Mon Cala    Mon Calamari  \n28          brown       8BBY           male           Endor            Ewok  \n29          black        NaN           male         Sullust       Sullustan  \n30           blue      92BBY           male             NaN           Human  \n31            red        NaN           male  Cato Neimoidia       Neimodian  \n33         orange      52BBY           male           Naboo          Gungan  \n34         orange        NaN           male           Naboo          Gungan  \n38         orange        NaN           male       Malastare             Dug  \n41         yellow      54BBY           male        Dathomir          Zabrak  \n43          hazel      48BBY         female          Ryloth         Twi'lek  \n44         yellow        NaN           male         Vulpter      Vulptereen  \n46         orange        NaN           male            Tund           Toong  \n47          brown      72BBY           male      Haruun Kal           Human  \n48         yellow      92BBY           male           Cerea          Cerean  \n49          black        NaN           male     Glee Anselm        Nautolan  \n51           blue        NaN         female       Coruscant      Tholothian  \n54          black      22BBY           male           Dorin         Kel Dor  \n56          brown        NaN           male           Naboo           Human  \n59         yellow        NaN           male        Geonosis       Geonosian  \n60           blue      58BBY         female          Mirial        Mirialan  \n61           blue      40BBY         female          Mirial        Mirialan  \n63          brown     102BBY           male         Serenno           Human  \n65          brown      66BBY           male    Concord Dawn           Human  \n66         yellow        NaN         female           Zolan        Clawdite  \n67         yellow        NaN           male            Ojom        Besalisk  \n68          black        NaN           male          Kamino        Kaminoan  \n71            NaN        NaN           male     Aleen Minor          Aleena  \n73            NaN        NaN           male           Skako         Skakoan  \n75          black        NaN         female           Shili         Togruta  \n76  green, yellow        NaN           male           Kalee         Kaleesh  \n77           blue        NaN           male        Kashyyyk         Wookiee  \n78          brown        NaN           male        Alderaan           Human  \n79          white        NaN         female          Umbara             NaN  \n80          black        NaN           male          Utapau          Pau'an  \n86          brown      46BBY         female           Naboo           Human  ",
      "text/html": "<div>\n<style scoped>\n    .dataframe tbody tr th:only-of-type {\n        vertical-align: middle;\n    }\n\n    .dataframe tbody tr th {\n        vertical-align: top;\n    }\n\n    .dataframe thead th {\n        text-align: right;\n    }\n</style>\n<table border=\"1\" class=\"dataframe\">\n  <thead>\n    <tr style=\"text-align: right;\">\n      <th></th>\n      <th>name</th>\n      <th>height</th>\n      <th>mass</th>\n      <th>hair_color</th>\n      <th>skin_color</th>\n      <th>eye_color</th>\n      <th>birth_year</th>\n      <th>gender</th>\n      <th>homeworld</th>\n      <th>species</th>\n    </tr>\n  </thead>\n  <tbody>\n    <tr>\n      <th>0</th>\n      <td>Luke Skywalker</td>\n      <td>172.0</td>\n      <td>77.0</td>\n      <td>blond</td>\n      <td>fair</td>\n      <td>blue</td>\n      <td>19BBY</td>\n      <td>male</td>\n      <td>Tatooine</td>\n      <td>Human</td>\n    </tr>\n    <tr>\n      <th>1</th>\n      <td>C-3PO</td>\n      <td>167.0</td>\n      <td>75.0</td>\n      <td>NaN</td>\n      <td>gold</td>\n      <td>yellow</td>\n      <td>112BBY</td>\n      <td>NaN</td>\n      <td>Tatooine</td>\n      <td>Droid</td>\n    </tr>\n    <tr>\n      <th>2</th>\n      <td>R2-D2</td>\n      <td>96.0</td>\n      <td>32.0</td>\n      <td>NaN</td>\n      <td>white, blue</td>\n      <td>red</td>\n      <td>33BBY</td>\n      <td>NaN</td>\n      <td>Naboo</td>\n      <td>Droid</td>\n    </tr>\n    <tr>\n      <th>3</th>\n      <td>Darth Vader</td>\n      <td>202.0</td>\n      <td>136.0</td>\n      <td>none</td>\n      <td>white</td>\n      <td>yellow</td>\n      <td>41.9BBY</td>\n      <td>male</td>\n      <td>Tatooine</td>\n      <td>Human</td>\n    </tr>\n    <tr>\n      <th>4</th>\n      <td>Leia Organa</td>\n      <td>150.0</td>\n      <td>49.0</td>\n      <td>brown</td>\n      <td>light</td>\n      <td>brown</td>\n      <td>19BBY</td>\n      <td>female</td>\n      <td>Alderaan</td>\n      <td>Human</td>\n    </tr>\n    <tr>\n      <th>5</th>\n      <td>Owen Lars</td>\n      <td>178.0</td>\n      <td>120.0</td>\n      <td>brown, grey</td>\n      <td>light</td>\n      <td>blue</td>\n      <td>52BBY</td>\n      <td>male</td>\n      <td>Tatooine</td>\n      <td>Human</td>\n    </tr>\n    <tr>\n      <th>6</th>\n      <td>Beru Whitesun lars</td>\n      <td>165.0</td>\n      <td>75.0</td>\n      <td>brown</td>\n      <td>light</td>\n      <td>blue</td>\n      <td>47BBY</td>\n      <td>female</td>\n      <td>Tatooine</td>\n      <td>Human</td>\n    </tr>\n    <tr>\n      <th>7</th>\n      <td>R5-D4</td>\n      <td>97.0</td>\n      <td>32.0</td>\n      <td>NaN</td>\n      <td>white, red</td>\n      <td>red</td>\n      <td>NaN</td>\n      <td>NaN</td>\n      <td>Tatooine</td>\n      <td>Droid</td>\n    </tr>\n    <tr>\n      <th>8</th>\n      <td>Biggs Darklighter</td>\n      <td>183.0</td>\n      <td>84.0</td>\n      <td>black</td>\n      <td>light</td>\n      <td>brown</td>\n      <td>24BBY</td>\n      <td>male</td>\n      <td>Tatooine</td>\n      <td>Human</td>\n    </tr>\n    <tr>\n      <th>9</th>\n      <td>Obi-Wan Kenobi</td>\n      <td>182.0</td>\n      <td>77.0</td>\n      <td>auburn, white</td>\n      <td>fair</td>\n      <td>blue-gray</td>\n      <td>57BBY</td>\n      <td>male</td>\n      <td>Stewjon</td>\n      <td>Human</td>\n    </tr>\n    <tr>\n      <th>10</th>\n      <td>Anakin Skywalker</td>\n      <td>188.0</td>\n      <td>84.0</td>\n      <td>blond</td>\n      <td>fair</td>\n      <td>blue</td>\n      <td>41.9BBY</td>\n      <td>male</td>\n      <td>Tatooine</td>\n      <td>Human</td>\n    </tr>\n    <tr>\n      <th>12</th>\n      <td>Chewbacca</td>\n      <td>228.0</td>\n      <td>112.0</td>\n      <td>brown</td>\n      <td>NaN</td>\n      <td>blue</td>\n      <td>200BBY</td>\n      <td>male</td>\n      <td>Kashyyyk</td>\n      <td>Wookiee</td>\n    </tr>\n    <tr>\n      <th>13</th>\n      <td>Han Solo</td>\n      <td>180.0</td>\n      <td>80.0</td>\n      <td>brown</td>\n      <td>fair</td>\n      <td>brown</td>\n      <td>29BBY</td>\n      <td>male</td>\n      <td>Corellia</td>\n      <td>Human</td>\n    </tr>\n    <tr>\n      <th>14</th>\n      <td>Greedo</td>\n      <td>173.0</td>\n      <td>74.0</td>\n      <td>NaN</td>\n      <td>green</td>\n      <td>black</td>\n      <td>44BBY</td>\n      <td>male</td>\n      <td>Rodia</td>\n      <td>Rodian</td>\n    </tr>\n    <tr>\n      <th>15</th>\n      <td>Jabba Desilijic Tiure</td>\n      <td>175.0</td>\n      <td>1358.0</td>\n      <td>NaN</td>\n      <td>green-tan, brown</td>\n      <td>orange</td>\n      <td>600BBY</td>\n      <td>hermaphrodite</td>\n      <td>Nal Hutta</td>\n      <td>Hutt</td>\n    </tr>\n    <tr>\n      <th>16</th>\n      <td>Wedge Antilles</td>\n      <td>170.0</td>\n      <td>77.0</td>\n      <td>brown</td>\n      <td>fair</td>\n      <td>hazel</td>\n      <td>21BBY</td>\n      <td>male</td>\n      <td>Corellia</td>\n      <td>Human</td>\n    </tr>\n    <tr>\n      <th>17</th>\n      <td>Jek Tono Porkins</td>\n      <td>180.0</td>\n      <td>110.0</td>\n      <td>brown</td>\n      <td>fair</td>\n      <td>blue</td>\n      <td>NaN</td>\n      <td>male</td>\n      <td>Bestine IV</td>\n      <td>Human</td>\n    </tr>\n    <tr>\n      <th>18</th>\n      <td>Yoda</td>\n      <td>66.0</td>\n      <td>17.0</td>\n      <td>white</td>\n      <td>green</td>\n      <td>brown</td>\n      <td>896BBY</td>\n      <td>male</td>\n      <td>NaN</td>\n      <td>Yoda's species</td>\n    </tr>\n    <tr>\n      <th>19</th>\n      <td>Palpatine</td>\n      <td>170.0</td>\n      <td>75.0</td>\n      <td>grey</td>\n      <td>pale</td>\n      <td>yellow</td>\n      <td>82BBY</td>\n      <td>male</td>\n      <td>Naboo</td>\n      <td>Human</td>\n    </tr>\n    <tr>\n      <th>20</th>\n      <td>Boba Fett</td>\n      <td>183.0</td>\n      <td>78.2</td>\n      <td>black</td>\n      <td>fair</td>\n      <td>brown</td>\n      <td>31.5BBY</td>\n      <td>male</td>\n      <td>Kamino</td>\n      <td>Human</td>\n    </tr>\n    <tr>\n      <th>21</th>\n      <td>IG-88</td>\n      <td>200.0</td>\n      <td>140.0</td>\n      <td>none</td>\n      <td>metal</td>\n      <td>red</td>\n      <td>15BBY</td>\n      <td>none</td>\n      <td>NaN</td>\n      <td>Droid</td>\n    </tr>\n    <tr>\n      <th>22</th>\n      <td>Bossk</td>\n      <td>190.0</td>\n      <td>113.0</td>\n      <td>none</td>\n      <td>green</td>\n      <td>red</td>\n      <td>53BBY</td>\n      <td>male</td>\n      <td>Trandosha</td>\n      <td>Trandoshan</td>\n    </tr>\n    <tr>\n      <th>23</th>\n      <td>Lando Calrissian</td>\n      <td>177.0</td>\n      <td>79.0</td>\n      <td>black</td>\n      <td>dark</td>\n      <td>brown</td>\n      <td>31BBY</td>\n      <td>male</td>\n      <td>Socorro</td>\n      <td>Human</td>\n    </tr>\n    <tr>\n      <th>24</th>\n      <td>Lobot</td>\n      <td>175.0</td>\n      <td>79.0</td>\n      <td>none</td>\n      <td>light</td>\n      <td>blue</td>\n      <td>37BBY</td>\n      <td>male</td>\n      <td>Bespin</td>\n      <td>Human</td>\n    </tr>\n    <tr>\n      <th>25</th>\n      <td>Ackbar</td>\n      <td>180.0</td>\n      <td>83.0</td>\n      <td>none</td>\n      <td>brown mottle</td>\n      <td>orange</td>\n      <td>41BBY</td>\n      <td>male</td>\n      <td>Mon Cala</td>\n      <td>Mon Calamari</td>\n    </tr>\n    <tr>\n      <th>28</th>\n      <td>Wicket Systri Warrick</td>\n      <td>88.0</td>\n      <td>20.0</td>\n      <td>brown</td>\n      <td>brown</td>\n      <td>brown</td>\n      <td>8BBY</td>\n      <td>male</td>\n      <td>Endor</td>\n      <td>Ewok</td>\n    </tr>\n    <tr>\n      <th>29</th>\n      <td>Nien Nunb</td>\n      <td>160.0</td>\n      <td>68.0</td>\n      <td>none</td>\n      <td>grey</td>\n      <td>black</td>\n      <td>NaN</td>\n      <td>male</td>\n      <td>Sullust</td>\n      <td>Sullustan</td>\n    </tr>\n    <tr>\n      <th>30</th>\n      <td>Qui-Gon Jinn</td>\n      <td>193.0</td>\n      <td>89.0</td>\n      <td>brown</td>\n      <td>fair</td>\n      <td>blue</td>\n      <td>92BBY</td>\n      <td>male</td>\n      <td>NaN</td>\n      <td>Human</td>\n    </tr>\n    <tr>\n      <th>31</th>\n      <td>Nute Gunray</td>\n      <td>191.0</td>\n      <td>90.0</td>\n      <td>none</td>\n      <td>mottled green</td>\n      <td>red</td>\n      <td>NaN</td>\n      <td>male</td>\n      <td>Cato Neimoidia</td>\n      <td>Neimodian</td>\n    </tr>\n    <tr>\n      <th>33</th>\n      <td>Jar Jar Binks</td>\n      <td>196.0</td>\n      <td>66.0</td>\n      <td>none</td>\n      <td>orange</td>\n      <td>orange</td>\n      <td>52BBY</td>\n      <td>male</td>\n      <td>Naboo</td>\n      <td>Gungan</td>\n    </tr>\n    <tr>\n      <th>34</th>\n      <td>Roos Tarpals</td>\n      <td>224.0</td>\n      <td>82.0</td>\n      <td>none</td>\n      <td>grey</td>\n      <td>orange</td>\n      <td>NaN</td>\n      <td>male</td>\n      <td>Naboo</td>\n      <td>Gungan</td>\n    </tr>\n    <tr>\n      <th>38</th>\n      <td>Sebulba</td>\n      <td>112.0</td>\n      <td>40.0</td>\n      <td>none</td>\n      <td>grey, red</td>\n      <td>orange</td>\n      <td>NaN</td>\n      <td>male</td>\n      <td>Malastare</td>\n      <td>Dug</td>\n    </tr>\n    <tr>\n      <th>41</th>\n      <td>Darth Maul</td>\n      <td>175.0</td>\n      <td>80.0</td>\n      <td>none</td>\n      <td>red</td>\n      <td>yellow</td>\n      <td>54BBY</td>\n      <td>male</td>\n      <td>Dathomir</td>\n      <td>Zabrak</td>\n    </tr>\n    <tr>\n      <th>43</th>\n      <td>Ayla Secura</td>\n      <td>178.0</td>\n      <td>55.0</td>\n      <td>none</td>\n      <td>blue</td>\n      <td>hazel</td>\n      <td>48BBY</td>\n      <td>female</td>\n      <td>Ryloth</td>\n      <td>Twi'lek</td>\n    </tr>\n    <tr>\n      <th>44</th>\n      <td>Dud Bolt</td>\n      <td>94.0</td>\n      <td>45.0</td>\n      <td>none</td>\n      <td>blue, grey</td>\n      <td>yellow</td>\n      <td>NaN</td>\n      <td>male</td>\n      <td>Vulpter</td>\n      <td>Vulptereen</td>\n    </tr>\n    <tr>\n      <th>46</th>\n      <td>Ben Quadinaros</td>\n      <td>163.0</td>\n      <td>65.0</td>\n      <td>none</td>\n      <td>grey, green, yellow</td>\n      <td>orange</td>\n      <td>NaN</td>\n      <td>male</td>\n      <td>Tund</td>\n      <td>Toong</td>\n    </tr>\n    <tr>\n      <th>47</th>\n      <td>Mace Windu</td>\n      <td>188.0</td>\n      <td>84.0</td>\n      <td>none</td>\n      <td>dark</td>\n      <td>brown</td>\n      <td>72BBY</td>\n      <td>male</td>\n      <td>Haruun Kal</td>\n      <td>Human</td>\n    </tr>\n    <tr>\n      <th>48</th>\n      <td>Ki-Adi-Mundi</td>\n      <td>198.0</td>\n      <td>82.0</td>\n      <td>white</td>\n      <td>pale</td>\n      <td>yellow</td>\n      <td>92BBY</td>\n      <td>male</td>\n      <td>Cerea</td>\n      <td>Cerean</td>\n    </tr>\n    <tr>\n      <th>49</th>\n      <td>Kit Fisto</td>\n      <td>196.0</td>\n      <td>87.0</td>\n      <td>none</td>\n      <td>green</td>\n      <td>black</td>\n      <td>NaN</td>\n      <td>male</td>\n      <td>Glee Anselm</td>\n      <td>Nautolan</td>\n    </tr>\n    <tr>\n      <th>51</th>\n      <td>Adi Gallia</td>\n      <td>184.0</td>\n      <td>50.0</td>\n      <td>none</td>\n      <td>dark</td>\n      <td>blue</td>\n      <td>NaN</td>\n      <td>female</td>\n      <td>Coruscant</td>\n      <td>Tholothian</td>\n    </tr>\n    <tr>\n      <th>54</th>\n      <td>Plo Koon</td>\n      <td>188.0</td>\n      <td>80.0</td>\n      <td>none</td>\n      <td>orange</td>\n      <td>black</td>\n      <td>22BBY</td>\n      <td>male</td>\n      <td>Dorin</td>\n      <td>Kel Dor</td>\n    </tr>\n    <tr>\n      <th>56</th>\n      <td>Gregar Typho</td>\n      <td>185.0</td>\n      <td>85.0</td>\n      <td>black</td>\n      <td>dark</td>\n      <td>brown</td>\n      <td>NaN</td>\n      <td>male</td>\n      <td>Naboo</td>\n      <td>Human</td>\n    </tr>\n    <tr>\n      <th>59</th>\n      <td>Poggle the Lesser</td>\n      <td>183.0</td>\n      <td>80.0</td>\n      <td>none</td>\n      <td>green</td>\n      <td>yellow</td>\n      <td>NaN</td>\n      <td>male</td>\n      <td>Geonosis</td>\n      <td>Geonosian</td>\n    </tr>\n    <tr>\n      <th>60</th>\n      <td>Luminara Unduli</td>\n      <td>170.0</td>\n      <td>56.2</td>\n      <td>black</td>\n      <td>yellow</td>\n      <td>blue</td>\n      <td>58BBY</td>\n      <td>female</td>\n      <td>Mirial</td>\n      <td>Mirialan</td>\n    </tr>\n    <tr>\n      <th>61</th>\n      <td>Barriss Offee</td>\n      <td>166.0</td>\n      <td>50.0</td>\n      <td>black</td>\n      <td>yellow</td>\n      <td>blue</td>\n      <td>40BBY</td>\n      <td>female</td>\n      <td>Mirial</td>\n      <td>Mirialan</td>\n    </tr>\n    <tr>\n      <th>63</th>\n      <td>Dooku</td>\n      <td>193.0</td>\n      <td>80.0</td>\n      <td>white</td>\n      <td>fair</td>\n      <td>brown</td>\n      <td>102BBY</td>\n      <td>male</td>\n      <td>Serenno</td>\n      <td>Human</td>\n    </tr>\n    <tr>\n      <th>65</th>\n      <td>Jango Fett</td>\n      <td>183.0</td>\n      <td>79.0</td>\n      <td>black</td>\n      <td>tan</td>\n      <td>brown</td>\n      <td>66BBY</td>\n      <td>male</td>\n      <td>Concord Dawn</td>\n      <td>Human</td>\n    </tr>\n    <tr>\n      <th>66</th>\n      <td>Zam Wesell</td>\n      <td>168.0</td>\n      <td>55.0</td>\n      <td>blonde</td>\n      <td>fair, green, yellow</td>\n      <td>yellow</td>\n      <td>NaN</td>\n      <td>female</td>\n      <td>Zolan</td>\n      <td>Clawdite</td>\n    </tr>\n    <tr>\n      <th>67</th>\n      <td>Dexter Jettster</td>\n      <td>198.0</td>\n      <td>102.0</td>\n      <td>none</td>\n      <td>brown</td>\n      <td>yellow</td>\n      <td>NaN</td>\n      <td>male</td>\n      <td>Ojom</td>\n      <td>Besalisk</td>\n    </tr>\n    <tr>\n      <th>68</th>\n      <td>Lama Su</td>\n      <td>229.0</td>\n      <td>88.0</td>\n      <td>none</td>\n      <td>grey</td>\n      <td>black</td>\n      <td>NaN</td>\n      <td>male</td>\n      <td>Kamino</td>\n      <td>Kaminoan</td>\n    </tr>\n    <tr>\n      <th>71</th>\n      <td>Ratts Tyerell</td>\n      <td>79.0</td>\n      <td>15.0</td>\n      <td>none</td>\n      <td>grey, blue</td>\n      <td>NaN</td>\n      <td>NaN</td>\n      <td>male</td>\n      <td>Aleen Minor</td>\n      <td>Aleena</td>\n    </tr>\n    <tr>\n      <th>73</th>\n      <td>Wat Tambor</td>\n      <td>193.0</td>\n      <td>48.0</td>\n      <td>none</td>\n      <td>green, grey</td>\n      <td>NaN</td>\n      <td>NaN</td>\n      <td>male</td>\n      <td>Skako</td>\n      <td>Skakoan</td>\n    </tr>\n    <tr>\n      <th>75</th>\n      <td>Shaak Ti</td>\n      <td>178.0</td>\n      <td>57.0</td>\n      <td>none</td>\n      <td>red, blue, white</td>\n      <td>black</td>\n      <td>NaN</td>\n      <td>female</td>\n      <td>Shili</td>\n      <td>Togruta</td>\n    </tr>\n    <tr>\n      <th>76</th>\n      <td>Grievous</td>\n      <td>216.0</td>\n      <td>159.0</td>\n      <td>none</td>\n      <td>brown, white</td>\n      <td>green, yellow</td>\n      <td>NaN</td>\n      <td>male</td>\n      <td>Kalee</td>\n      <td>Kaleesh</td>\n    </tr>\n    <tr>\n      <th>77</th>\n      <td>Tarfful</td>\n      <td>234.0</td>\n      <td>136.0</td>\n      <td>brown</td>\n      <td>brown</td>\n      <td>blue</td>\n      <td>NaN</td>\n      <td>male</td>\n      <td>Kashyyyk</td>\n      <td>Wookiee</td>\n    </tr>\n    <tr>\n      <th>78</th>\n      <td>Raymus Antilles</td>\n      <td>188.0</td>\n      <td>79.0</td>\n      <td>brown</td>\n      <td>light</td>\n      <td>brown</td>\n      <td>NaN</td>\n      <td>male</td>\n      <td>Alderaan</td>\n      <td>Human</td>\n    </tr>\n    <tr>\n      <th>79</th>\n      <td>Sly Moore</td>\n      <td>178.0</td>\n      <td>48.0</td>\n      <td>none</td>\n      <td>pale</td>\n      <td>white</td>\n      <td>NaN</td>\n      <td>female</td>\n      <td>Umbara</td>\n      <td>NaN</td>\n    </tr>\n    <tr>\n      <th>80</th>\n      <td>Tion Medon</td>\n      <td>206.0</td>\n      <td>80.0</td>\n      <td>none</td>\n      <td>grey</td>\n      <td>black</td>\n      <td>NaN</td>\n      <td>male</td>\n      <td>Utapau</td>\n      <td>Pau'an</td>\n    </tr>\n    <tr>\n      <th>86</th>\n      <td>Padmé Amidala</td>\n      <td>165.0</td>\n      <td>45.0</td>\n      <td>brown</td>\n      <td>light</td>\n      <td>brown</td>\n      <td>46BBY</td>\n      <td>female</td>\n      <td>Naboo</td>\n      <td>Human</td>\n    </tr>\n  </tbody>\n</table>\n</div>"
     },
     "execution_count": 3,
     "metadata": {},
     "output_type": "execute_result"
    }
   ],
   "source": [
    "df = pd.read_csv(\"characters.csv\")\n",
    "df = df[~pd.isnull(df.mass)]\n",
    "df.mass = df.mass.str.replace(\",\", \"\").astype(\"float\")\n",
    "df.height = df.height.astype(\"float\")\n",
    "df"
   ],
   "metadata": {
    "collapsed": false,
    "pycharm": {
     "name": "#%%\n"
    }
   }
  },
  {
   "cell_type": "markdown",
   "source": [
    "## Job one is *always* to look at your data first\n",
    "TODO: Some plots"
   ],
   "metadata": {
    "collapsed": false,
    "pycharm": {
     "name": "#%% md\n"
    }
   }
  },
  {
   "cell_type": "markdown",
   "source": [
    "## Now, let's model!"
   ],
   "metadata": {
    "collapsed": false,
    "pycharm": {
     "name": "#%% md\n"
    }
   }
  },
  {
   "cell_type": "code",
   "execution_count": null,
   "outputs": [],
   "source": [
    "train_mass, train_height = sk"
   ],
   "metadata": {
    "collapsed": false,
    "pycharm": {
     "name": "#%%\n"
    }
   }
  },
  {
   "cell_type": "code",
   "execution_count": 14,
   "outputs": [
    {
     "data": {
      "text/plain": "LinearRegression()"
     },
     "execution_count": 14,
     "metadata": {},
     "output_type": "execute_result"
    }
   ],
   "source": [
    "mod = LinearRegression()\n",
    "mod.fit(df.mass.to_numpy().reshape(-1,1), df.height)"
   ],
   "metadata": {
    "collapsed": false,
    "pycharm": {
     "name": "#%%\n"
    }
   }
  },
  {
   "cell_type": "markdown",
   "source": [
    "# Great, is it any good?\n"
   ],
   "metadata": {
    "collapsed": false,
    "pycharm": {
     "name": "#%% md\n"
    }
   }
  },
  {
   "cell_type": "code",
   "execution_count": null,
   "outputs": [],
   "source": [],
   "metadata": {
    "collapsed": false,
    "pycharm": {
     "name": "#%%\n"
    }
   }
  },
  {
   "cell_type": "markdown",
   "source": [
    "## How do we know if it's any good?\n",
    "We do NOT use p-values. P-values are a plauge on the academic sciences and (in general) have even less value in business. If you don't know what these are that's fine, you have an advantage here. If you do, park that.\n",
    "\n",
    "Remember, in business we want to: Increase profit, reduce risk or increase efficiencies. All of these can be done whether your p-value is significant or not!"
   ],
   "metadata": {
    "collapsed": false,
    "pycharm": {
     "name": "#%% md\n"
    }
   }
  },
  {
   "cell_type": "code",
   "execution_count": null,
   "outputs": [],
   "source": [],
   "metadata": {
    "collapsed": false,
    "pycharm": {
     "name": "#%%\n"
    }
   }
  },
  {
   "cell_type": "code",
   "execution_count": null,
   "outputs": [],
   "source": [],
   "metadata": {
    "collapsed": false,
    "pycharm": {
     "name": "#%%\n"
    }
   }
  },
  {
   "cell_type": "code",
   "execution_count": null,
   "outputs": [],
   "source": [],
   "metadata": {
    "collapsed": false,
    "pycharm": {
     "name": "#%%\n"
    }
   }
  },
  {
   "cell_type": "markdown",
   "source": [
    "## Is our model any good?"
   ],
   "metadata": {
    "collapsed": false,
    "pycharm": {
     "name": "#%% md\n"
    }
   }
  }
 ],
 "metadata": {
  "kernelspec": {
   "display_name": "Python 3",
   "language": "python",
   "name": "python3"
  },
  "language_info": {
   "codemirror_mode": {
    "name": "ipython",
    "version": 2
   },
   "file_extension": ".py",
   "mimetype": "text/x-python",
   "name": "python",
   "nbconvert_exporter": "python",
   "pygments_lexer": "ipython2",
   "version": "2.7.6"
  }
 },
 "nbformat": 4,
 "nbformat_minor": 0
}