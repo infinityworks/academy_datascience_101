{
 "cells": [
  {
   "cell_type": "markdown",
   "source": [
    "# What are we doing here?\n",
    "This is the Infinityworks Data Science 101 workshop. We will be training a model to predict...*drum roll*...The weight of various star wars characters based on their other vital statistics.\n",
    "\n",
    "Don't say we didn't try to make this exciting!"
   ],
   "metadata": {
    "collapsed": false
   }
  },
  {
   "cell_type": "markdown",
   "source": [
    "## Wait, what is this sourcery? Am in an IDE here or what?\n",
    "This is a Jupyter Notebook. It's a standard bit of kit in Data Science circles. It's shite for proper code dev but there's few better tools for doing investigative coding and mixing it with notes and charts. If you want to learn a bit more then there's a link [here](https://github.com/datamacgyver/jupyter_pandas_demo/blob/main/learn_pandas.ipynb).\n",
    "\n",
    "For now, just enjoy the ride and have a play. If, for example, you click on this text you can edit it as Markdown.\n",
    "\n",
    "To run a cell press `ctrl+enter` or `shift+enter`. You will need to do this to see what the code outputs!"
   ],
   "metadata": {
    "collapsed": false
   }
  },
  {
   "cell_type": "markdown",
   "source": [
    "### First things first, we need some libraries"
   ],
   "metadata": {
    "collapsed": false
   }
  },
  {
   "cell_type": "code",
   "execution_count": 32,
   "outputs": [],
   "source": [
    "import pandas as pd     # Standard Python data handling library. Lets you store tables (often called `DataFrames`)\n",
    "import seaborn as sns   # Plotting library, there's many to choose from but this is a stalwart\n",
    "import matplotlib.pyplot as plt  # Matplotlib is the underlying library to seaborn, it's used to do some fancy stuff later.\n",
    "\n",
    "# Sklearn is the standard Python stats tooling. It's...large and unwieldy but goes.\n",
    "from sklearn.linear_model import LinearRegression                    # Models\n",
    "from sklearn.metrics import mean_squared_error, mean_absolute_error  # Error metrics\n",
    "from sklearn.model_selection import train_test_split                 # Splitting data (I'll explain later)\n"
   ],
   "metadata": {
    "collapsed": false,
    "pycharm": {
     "name": "#%%\n"
    }
   }
  },
  {
   "cell_type": "markdown",
   "source": [
    "### Now, some data\n",
    "We aren't going to go too deep into this but you should **ALWAYS** look in depth at your data first, understand where it's coming from and how each bit relates to each other bit."
   ],
   "metadata": {
    "collapsed": false
   }
  },
  {
   "cell_type": "code",
   "execution_count": 33,
   "outputs": [
    {
     "data": {
      "text/plain": "                    name  height    mass hair_color        skin_color  \\\n0         Luke Skywalker   172.0    77.0      blond              fair   \n1  Jabba Desilijic Tiure   175.0  1358.0        NaN  green-tan, brown   \n2                  Watto   137.0     NaN      black        blue, grey   \n3                Sebulba   112.0    40.0       none         grey, red   \n4          Quarsh Panaka   183.0     NaN      black              dark   \n\n  eye_color birth_year         gender  homeworld    species  \n0      blue      19BBY           male   Tatooine      Human  \n1    orange     600BBY  hermaphrodite  Nal Hutta       Hutt  \n2    yellow        NaN           male   Toydaria  Toydarian  \n3    orange        NaN           male  Malastare        Dug  \n4     brown      62BBY           male      Naboo        NaN  ",
      "text/html": "<div>\n<style scoped>\n    .dataframe tbody tr th:only-of-type {\n        vertical-align: middle;\n    }\n\n    .dataframe tbody tr th {\n        vertical-align: top;\n    }\n\n    .dataframe thead th {\n        text-align: right;\n    }\n</style>\n<table border=\"1\" class=\"dataframe\">\n  <thead>\n    <tr style=\"text-align: right;\">\n      <th></th>\n      <th>name</th>\n      <th>height</th>\n      <th>mass</th>\n      <th>hair_color</th>\n      <th>skin_color</th>\n      <th>eye_color</th>\n      <th>birth_year</th>\n      <th>gender</th>\n      <th>homeworld</th>\n      <th>species</th>\n    </tr>\n  </thead>\n  <tbody>\n    <tr>\n      <th>0</th>\n      <td>Luke Skywalker</td>\n      <td>172.0</td>\n      <td>77.0</td>\n      <td>blond</td>\n      <td>fair</td>\n      <td>blue</td>\n      <td>19BBY</td>\n      <td>male</td>\n      <td>Tatooine</td>\n      <td>Human</td>\n    </tr>\n    <tr>\n      <th>1</th>\n      <td>Jabba Desilijic Tiure</td>\n      <td>175.0</td>\n      <td>1358.0</td>\n      <td>NaN</td>\n      <td>green-tan, brown</td>\n      <td>orange</td>\n      <td>600BBY</td>\n      <td>hermaphrodite</td>\n      <td>Nal Hutta</td>\n      <td>Hutt</td>\n    </tr>\n    <tr>\n      <th>2</th>\n      <td>Watto</td>\n      <td>137.0</td>\n      <td>NaN</td>\n      <td>black</td>\n      <td>blue, grey</td>\n      <td>yellow</td>\n      <td>NaN</td>\n      <td>male</td>\n      <td>Toydaria</td>\n      <td>Toydarian</td>\n    </tr>\n    <tr>\n      <th>3</th>\n      <td>Sebulba</td>\n      <td>112.0</td>\n      <td>40.0</td>\n      <td>none</td>\n      <td>grey, red</td>\n      <td>orange</td>\n      <td>NaN</td>\n      <td>male</td>\n      <td>Malastare</td>\n      <td>Dug</td>\n    </tr>\n    <tr>\n      <th>4</th>\n      <td>Quarsh Panaka</td>\n      <td>183.0</td>\n      <td>NaN</td>\n      <td>black</td>\n      <td>dark</td>\n      <td>brown</td>\n      <td>62BBY</td>\n      <td>male</td>\n      <td>Naboo</td>\n      <td>NaN</td>\n    </tr>\n  </tbody>\n</table>\n</div>"
     },
     "execution_count": 33,
     "metadata": {},
     "output_type": "execute_result"
    }
   ],
   "source": [
    "# pandas makes it easy for us to read a csv straight into a dataframe\n",
    "# Note I'm downloading from the internet here!\n",
    "df = pd.read_csv(\"https://raw.githubusercontent.com/infinityworks/academy_datascience_101/main/characters.csv\")\n",
    "\n",
    "df.head()"
   ],
   "metadata": {
    "collapsed": false,
    "pycharm": {
     "name": "#%%\n"
    }
   }
  },
  {
   "cell_type": "markdown",
   "source": [
    "### These data don't look great!\n",
    "Look at the mass column, there's NaNs (Pandas' version of Null), that will make predicting mass difficult! Let's get rid of them."
   ],
   "metadata": {
    "collapsed": false
   }
  },
  {
   "cell_type": "code",
   "execution_count": 34,
   "outputs": [
    {
     "data": {
      "text/plain": "                    name  height    mass hair_color        skin_color  \\\n0         Luke Skywalker   172.0    77.0      blond              fair   \n1  Jabba Desilijic Tiure   175.0  1358.0        NaN  green-tan, brown   \n3                Sebulba   112.0    40.0       none         grey, red   \n6             Darth Maul   175.0    80.0       none               red   \n7                  C-3PO   167.0    75.0        NaN              gold   \n\n  eye_color birth_year         gender  homeworld species  \n0      blue      19BBY           male   Tatooine   Human  \n1    orange     600BBY  hermaphrodite  Nal Hutta    Hutt  \n3    orange        NaN           male  Malastare     Dug  \n6    yellow      54BBY           male   Dathomir  Zabrak  \n7    yellow     112BBY            NaN   Tatooine   Droid  ",
      "text/html": "<div>\n<style scoped>\n    .dataframe tbody tr th:only-of-type {\n        vertical-align: middle;\n    }\n\n    .dataframe tbody tr th {\n        vertical-align: top;\n    }\n\n    .dataframe thead th {\n        text-align: right;\n    }\n</style>\n<table border=\"1\" class=\"dataframe\">\n  <thead>\n    <tr style=\"text-align: right;\">\n      <th></th>\n      <th>name</th>\n      <th>height</th>\n      <th>mass</th>\n      <th>hair_color</th>\n      <th>skin_color</th>\n      <th>eye_color</th>\n      <th>birth_year</th>\n      <th>gender</th>\n      <th>homeworld</th>\n      <th>species</th>\n    </tr>\n  </thead>\n  <tbody>\n    <tr>\n      <th>0</th>\n      <td>Luke Skywalker</td>\n      <td>172.0</td>\n      <td>77.0</td>\n      <td>blond</td>\n      <td>fair</td>\n      <td>blue</td>\n      <td>19BBY</td>\n      <td>male</td>\n      <td>Tatooine</td>\n      <td>Human</td>\n    </tr>\n    <tr>\n      <th>1</th>\n      <td>Jabba Desilijic Tiure</td>\n      <td>175.0</td>\n      <td>1358.0</td>\n      <td>NaN</td>\n      <td>green-tan, brown</td>\n      <td>orange</td>\n      <td>600BBY</td>\n      <td>hermaphrodite</td>\n      <td>Nal Hutta</td>\n      <td>Hutt</td>\n    </tr>\n    <tr>\n      <th>3</th>\n      <td>Sebulba</td>\n      <td>112.0</td>\n      <td>40.0</td>\n      <td>none</td>\n      <td>grey, red</td>\n      <td>orange</td>\n      <td>NaN</td>\n      <td>male</td>\n      <td>Malastare</td>\n      <td>Dug</td>\n    </tr>\n    <tr>\n      <th>6</th>\n      <td>Darth Maul</td>\n      <td>175.0</td>\n      <td>80.0</td>\n      <td>none</td>\n      <td>red</td>\n      <td>yellow</td>\n      <td>54BBY</td>\n      <td>male</td>\n      <td>Dathomir</td>\n      <td>Zabrak</td>\n    </tr>\n    <tr>\n      <th>7</th>\n      <td>C-3PO</td>\n      <td>167.0</td>\n      <td>75.0</td>\n      <td>NaN</td>\n      <td>gold</td>\n      <td>yellow</td>\n      <td>112BBY</td>\n      <td>NaN</td>\n      <td>Tatooine</td>\n      <td>Droid</td>\n    </tr>\n  </tbody>\n</table>\n</div>"
     },
     "execution_count": 34,
     "metadata": {},
     "output_type": "execute_result"
    }
   ],
   "source": [
    "df = df[~pd.isnull(df.mass)]\n",
    "\n",
    "df.head()"
   ],
   "metadata": {
    "collapsed": false,
    "pycharm": {
     "name": "#%%\n"
    }
   }
  },
  {
   "cell_type": "markdown",
   "source": [
    "Bit of code to break down there:\n",
    "* `df[]` does a filter based on whatever is in the brackets\n",
    "* `~` is a negation, it changes `True` to `False` and vice versa\n",
    "* `pd.isnull()` returns `True` if a value is `NaN`\n",
    "* `df.mass` selects the mass column from the dataframe\n",
    "\n",
    "So - in short - we are filtering for when the mass column is not null."
   ],
   "metadata": {
    "collapsed": false
   }
  },
  {
   "cell_type": "markdown",
   "source": [
    "## Now, let's model!\n",
    "Sklearn provides many optimised algorithms/models for Data Science / ML tasks. While you can implement these yourself, the Sklearn versions will be much faster and more efficient for most use cases.\n",
    "\n",
    "We want to know:\n",
    "\"Can we predict the height of a character when we know their mass?\"\n"
   ],
   "metadata": {
    "collapsed": false
   }
  },
  {
   "cell_type": "code",
   "execution_count": 35,
   "outputs": [
    {
     "data": {
      "text/plain": "<AxesSubplot:xlabel='height', ylabel='pred_height'>"
     },
     "execution_count": 35,
     "metadata": {},
     "output_type": "execute_result"
    },
    {
     "data": {
      "text/plain": "<Figure size 432x288 with 1 Axes>",
      "image/png": "[encoded data removed]"
     },
     "metadata": {
      "needs_background": "light"
     },
     "output_type": "display_data"
    }
   ],
   "source": [
    "mod = LinearRegression()\n",
    "\n",
    "# all Sklearn-compatible models use the fit method for training the model\n",
    "mod.fit(\n",
    " df.mass.to_numpy().reshape(-1,1),   # The \"Features\" that our model will learn to predict with\n",
    " df.height                           # The know values our model will try to predict\n",
    ")\n",
    "\n",
    "# ... a model will have a predict method for making predictions using a trained model\n",
    "df[\"pred_height\"] = mod.predict(df.mass.to_numpy().reshape(-1,1))\n",
    "\n",
    "# as in the line above, it's simple to add new columns to our existing DataFrame\n",
    "df[\"raw_error\"] = df.pred_height - df.height\n",
    "\n",
    "df.plot.scatter(x=\"height\", y=\"pred_height\")"
   ],
   "metadata": {
    "collapsed": false,
    "pycharm": {
     "name": "#%%\n"
    }
   }
  },
  {
   "cell_type": "markdown",
   "source": [
    "Let's add a line of best fit here, what we expect to see if predictions == actual mass.\n",
    "\n",
    "As you can see, it's a `bag o'shite` but the thing to note is that the *error* in these predictions is the difference between each blue point and the green line"
   ],
   "metadata": {
    "collapsed": false
   }
  },
  {
   "cell_type": "code",
   "execution_count": 36,
   "outputs": [
    {
     "data": {
      "text/plain": "<Figure size 432x288 with 1 Axes>",
      "image/png": "[encoded data removed]"
     },
     "metadata": {
      "needs_background": "light"
     },
     "output_type": "display_data"
    }
   ],
   "source": [
    "fig, ax = plt.subplots(figsize=(6, 4))\n",
    "p1 = sns.scatterplot(data=df, x='height', y='pred_height', ax=ax)\n",
    "p2 = sns.lineplot(data=df, x='height', y='height', color='g', ax=ax)"
   ],
   "metadata": {
    "collapsed": false,
    "pycharm": {
     "name": "#%%\n"
    }
   }
  },
  {
   "cell_type": "markdown",
   "source": [
    "# What's gone wrong?\n",
    "We will do another pandas filter here, but this time on column name. Then we will sort on the error column to find the worst offenders.\n",
    "\n",
    "It's fair to say it's all Jabba's fault!"
   ],
   "metadata": {
    "collapsed": false
   }
  },
  {
   "cell_type": "code",
   "execution_count": 37,
   "outputs": [
    {
     "data": {
      "text/plain": "            name  height   mass  raw_error\n77       Tarfful   234.0  136.0 -58.897057\n68       Lama Su   229.0   88.0 -55.244439\n18     Chewbacca   228.0  112.0 -53.570748\n39  Roos Tarpals   224.0   82.0 -50.412862\n76      Grievous   216.0  159.0 -40.251437",
      "text/html": "<div>\n<style scoped>\n    .dataframe tbody tr th:only-of-type {\n        vertical-align: middle;\n    }\n\n    .dataframe tbody tr th {\n        vertical-align: top;\n    }\n\n    .dataframe thead th {\n        text-align: right;\n    }\n</style>\n<table border=\"1\" class=\"dataframe\">\n  <thead>\n    <tr style=\"text-align: right;\">\n      <th></th>\n      <th>name</th>\n      <th>height</th>\n      <th>mass</th>\n      <th>raw_error</th>\n    </tr>\n  </thead>\n  <tbody>\n    <tr>\n      <th>77</th>\n      <td>Tarfful</td>\n      <td>234.0</td>\n      <td>136.0</td>\n      <td>-58.897057</td>\n    </tr>\n    <tr>\n      <th>68</th>\n      <td>Lama Su</td>\n      <td>229.0</td>\n      <td>88.0</td>\n      <td>-55.244439</td>\n    </tr>\n    <tr>\n      <th>18</th>\n      <td>Chewbacca</td>\n      <td>228.0</td>\n      <td>112.0</td>\n      <td>-53.570748</td>\n    </tr>\n    <tr>\n      <th>39</th>\n      <td>Roos Tarpals</td>\n      <td>224.0</td>\n      <td>82.0</td>\n      <td>-50.412862</td>\n    </tr>\n    <tr>\n      <th>76</th>\n      <td>Grievous</td>\n      <td>216.0</td>\n      <td>159.0</td>\n      <td>-40.251437</td>\n    </tr>\n  </tbody>\n</table>\n</div>"
     },
     "execution_count": 37,
     "metadata": {},
     "output_type": "execute_result"
    }
   ],
   "source": [
    "cols = [\"name\", \"height\", \"mass\", \"raw_error\"]\n",
    "\n",
    "df[cols].sort_values(\"raw_error\").head()"
   ],
   "metadata": {
    "collapsed": false,
    "pycharm": {
     "name": "#%%\n"
    }
   }
  },
  {
   "cell_type": "markdown",
   "source": [
    "# Can we put a number on the error?\n",
    "There's lots of ways, and what you use depends on the type of thing you are predicting (a category or a continuous variable). We are doing the latter so the favourites are:\n",
    "\n",
    "* Mean Squared Error: Take the errors from above, square them and add them together. This means that big errors get magnified, helping us to see when something is *really* wrong\n",
    "* Root Mean Squared Error: Take the square root of the Mean Squared Error. Useful as the result is easier to relate to your data.\n",
    "* Mean Absolute error: Average of the raw errors, a bit crap as negatives cancel out the positives!\n",
    "\n",
    "Have a look at the below and try to relate what you are seeing with the bullets and the table above, do you get why the answers are different? Which do you think is best in this instance?"
   ],
   "metadata": {
    "collapsed": false
   }
  },
  {
   "cell_type": "code",
   "execution_count": 38,
   "outputs": [
    {
     "data": {
      "text/plain": "{'mean_squared_error': 1218.6549478618679,\n 'root_mean_squared_error': 34.90923871787908,\n 'mean_absolute_error': 23.673467238348255}"
     },
     "execution_count": 38,
     "metadata": {},
     "output_type": "execute_result"
    }
   ],
   "source": [
    "# sklearn also provides us with numerous methods to calculate the performance of our models\n",
    "{\n",
    " \"mean_squared_error\": mean_squared_error(df.height, df.pred_height),\n",
    " \"root_mean_squared_error\": mean_squared_error(df.height, df.pred_height, squared=False),\n",
    " \"mean_absolute_error\": mean_absolute_error(df.height, df.pred_height)\n",
    "}"
   ],
   "metadata": {
    "collapsed": false,
    "pycharm": {
     "name": "#%%\n"
    }
   }
  },
  {
   "cell_type": "markdown",
   "source": [
    "# What do we do about Jabba?\n",
    "Oh, lots of things. We could add species as a variable in the model, allowing it to learn that Hutts are a little different to everyone else. We could just drop him from the data and tell the customer \"We can't predict Hutts\". Given the data we have I'm going with the second option.\n",
    "\n",
    "I'm also going to add some complexity here. It's generally considered bad form to evaluate your model with the same data that you trained it with. It could just learn some nuance in your data and not work in production!\n",
    "\n",
    "As such, we are going to split the data into a train and a test set while we are at it."
   ],
   "metadata": {
    "collapsed": false
   }
  },
  {
   "cell_type": "code",
   "execution_count": 39,
   "outputs": [
    {
     "name": "stdout",
     "output_type": "stream",
     "text": [
      "(59, 12) (58, 12)\n"
     ]
    }
   ],
   "source": [
    "# Filter out all Hutts, they just don't lend themselves to BMI calculations!\n",
    "df_no_hutts = df.loc[df.species != \"Hutt\"]\n",
    "\n",
    "# shape gives us row, column count so we can be sure we've not done anything silly\n",
    "print(df.shape, df_no_hutts.shape)"
   ],
   "metadata": {
    "collapsed": false,
    "pycharm": {
     "name": "#%%\n"
    }
   }
  },
  {
   "cell_type": "code",
   "execution_count": 40,
   "outputs": [
    {
     "name": "stdout",
     "output_type": "stream",
     "text": [
      "(46,) (12,)\n"
     ]
    }
   ],
   "source": [
    "# Now split the data into training and test sets. Check shape again.\n",
    "height_train, height_test, mass_train, mass_test = train_test_split(df_no_hutts.height, df_no_hutts.mass, test_size=0.20)\n",
    "\n",
    "print(height_train.shape, height_test.shape)"
   ],
   "metadata": {
    "collapsed": false,
    "pycharm": {
     "name": "#%%\n"
    }
   }
  },
  {
   "cell_type": "code",
   "execution_count": 41,
   "outputs": [],
   "source": [
    "# Train the new model\n",
    "mod_2 = LinearRegression()\n",
    "mod_2.fit(mass_train.to_numpy().reshape(-1,1), height_train)\n",
    "\n",
    "pred_height = mod_2.predict(mass_test.to_numpy().reshape(-1,1))"
   ],
   "metadata": {
    "collapsed": false,
    "pycharm": {
     "name": "#%%\n"
    }
   }
  },
  {
   "cell_type": "markdown",
   "source": [
    "# More features!!\n",
    "Well done for making it this far. The next thing we will experiment with is adding new \"features\" to the model. What we want to do is to add more information that may (or may not) make predictions better.\n",
    "\n",
    "As an example, I'm going to add gender to the model"
   ],
   "metadata": {
    "collapsed": false
   }
  },
  {
   "cell_type": "code",
   "execution_count": 42,
   "outputs": [
    {
     "data": {
      "text/plain": "             name  height  mass hair_color   skin_color eye_color birth_year  \\\n0  Luke Skywalker   172.0  77.0      blond         fair      blue      19BBY   \n3         Sebulba   112.0  40.0       none    grey, red    orange        NaN   \n6      Darth Maul   175.0  80.0       none          red    yellow      54BBY   \n7           C-3PO   167.0  75.0        NaN         gold    yellow     112BBY   \n8           R2-D2    96.0  32.0        NaN  white, blue       red      33BBY   \n\n  gender  homeworld species  pred_height  raw_error  \n0   male   Tatooine   Human   173.446786   1.446786  \n3   male  Malastare     Dug   172.408179  60.408179  \n6   male   Dathomir  Zabrak   173.530997  -1.469003  \n7    NaN   Tatooine   Droid   173.390645   6.390645  \n8    NaN      Naboo   Droid   172.183615  76.183615  ",
      "text/html": "<div>\n<style scoped>\n    .dataframe tbody tr th:only-of-type {\n        vertical-align: middle;\n    }\n\n    .dataframe tbody tr th {\n        vertical-align: top;\n    }\n\n    .dataframe thead th {\n        text-align: right;\n    }\n</style>\n<table border=\"1\" class=\"dataframe\">\n  <thead>\n    <tr style=\"text-align: right;\">\n      <th></th>\n      <th>name</th>\n      <th>height</th>\n      <th>mass</th>\n      <th>hair_color</th>\n      <th>skin_color</th>\n      <th>eye_color</th>\n      <th>birth_year</th>\n      <th>gender</th>\n      <th>homeworld</th>\n      <th>species</th>\n      <th>pred_height</th>\n      <th>raw_error</th>\n    </tr>\n  </thead>\n  <tbody>\n    <tr>\n      <th>0</th>\n      <td>Luke Skywalker</td>\n      <td>172.0</td>\n      <td>77.0</td>\n      <td>blond</td>\n      <td>fair</td>\n      <td>blue</td>\n      <td>19BBY</td>\n      <td>male</td>\n      <td>Tatooine</td>\n      <td>Human</td>\n      <td>173.446786</td>\n      <td>1.446786</td>\n    </tr>\n    <tr>\n      <th>3</th>\n      <td>Sebulba</td>\n      <td>112.0</td>\n      <td>40.0</td>\n      <td>none</td>\n      <td>grey, red</td>\n      <td>orange</td>\n      <td>NaN</td>\n      <td>male</td>\n      <td>Malastare</td>\n      <td>Dug</td>\n      <td>172.408179</td>\n      <td>60.408179</td>\n    </tr>\n    <tr>\n      <th>6</th>\n      <td>Darth Maul</td>\n      <td>175.0</td>\n      <td>80.0</td>\n      <td>none</td>\n      <td>red</td>\n      <td>yellow</td>\n      <td>54BBY</td>\n      <td>male</td>\n      <td>Dathomir</td>\n      <td>Zabrak</td>\n      <td>173.530997</td>\n      <td>-1.469003</td>\n    </tr>\n    <tr>\n      <th>7</th>\n      <td>C-3PO</td>\n      <td>167.0</td>\n      <td>75.0</td>\n      <td>NaN</td>\n      <td>gold</td>\n      <td>yellow</td>\n      <td>112BBY</td>\n      <td>NaN</td>\n      <td>Tatooine</td>\n      <td>Droid</td>\n      <td>173.390645</td>\n      <td>6.390645</td>\n    </tr>\n    <tr>\n      <th>8</th>\n      <td>R2-D2</td>\n      <td>96.0</td>\n      <td>32.0</td>\n      <td>NaN</td>\n      <td>white, blue</td>\n      <td>red</td>\n      <td>33BBY</td>\n      <td>NaN</td>\n      <td>Naboo</td>\n      <td>Droid</td>\n      <td>172.183615</td>\n      <td>76.183615</td>\n    </tr>\n  </tbody>\n</table>\n</div>"
     },
     "execution_count": 42,
     "metadata": {},
     "output_type": "execute_result"
    }
   ],
   "source": [
    "df_no_hutts.head()"
   ],
   "metadata": {
    "collapsed": false,
    "pycharm": {
     "name": "#%%\n"
    }
   }
  },
  {
   "cell_type": "code",
   "execution_count": 43,
   "outputs": [
    {
     "data": {
      "text/plain": "male      44\nfemale    10\nnone       1\nName: gender, dtype: int64"
     },
     "execution_count": 43,
     "metadata": {},
     "output_type": "execute_result"
    }
   ],
   "source": [
    "# So, gender is a text field, you can see what the value counts are below\n",
    "# (Jabba makes it harder as he's a hermaphrodite!). We need to translate these\n",
    "# text labels to a number so the model can understand them.\n",
    "df_no_hutts.gender.value_counts()"
   ],
   "metadata": {
    "collapsed": false,
    "pycharm": {
     "name": "#%%\n"
    }
   }
  },
  {
   "cell_type": "code",
   "execution_count": 44,
   "outputs": [
    {
     "data": {
      "text/plain": "   gender_male  gender_none\n0            1            0\n3            1            0\n6            1            0\n7            0            1\n8            0            1",
      "text/html": "<div>\n<style scoped>\n    .dataframe tbody tr th:only-of-type {\n        vertical-align: middle;\n    }\n\n    .dataframe tbody tr th {\n        vertical-align: top;\n    }\n\n    .dataframe thead th {\n        text-align: right;\n    }\n</style>\n<table border=\"1\" class=\"dataframe\">\n  <thead>\n    <tr style=\"text-align: right;\">\n      <th></th>\n      <th>gender_male</th>\n      <th>gender_none</th>\n    </tr>\n  </thead>\n  <tbody>\n    <tr>\n      <th>0</th>\n      <td>1</td>\n      <td>0</td>\n    </tr>\n    <tr>\n      <th>3</th>\n      <td>1</td>\n      <td>0</td>\n    </tr>\n    <tr>\n      <th>6</th>\n      <td>1</td>\n      <td>0</td>\n    </tr>\n    <tr>\n      <th>7</th>\n      <td>0</td>\n      <td>1</td>\n    </tr>\n    <tr>\n      <th>8</th>\n      <td>0</td>\n      <td>1</td>\n    </tr>\n  </tbody>\n</table>\n</div>"
     },
     "execution_count": 44,
     "metadata": {},
     "output_type": "execute_result"
    }
   ],
   "source": [
    "# To do this we use get_dummies to create our numeric columns, you get one column per unique value,\n",
    "# populated with 0 or 1. One of the values above has been removed though, why do you think this is?\n",
    "gender = pd.get_dummies(df_no_hutts.gender.fillna(\"none\"), prefix=\"gender\", drop_first=True)\n",
    "gender.head()"
   ],
   "metadata": {
    "collapsed": false,
    "pycharm": {
     "name": "#%%\n"
    }
   }
  },
  {
   "cell_type": "code",
   "execution_count": 45,
   "outputs": [
    {
     "data": {
      "text/plain": "   height  gender_male  gender_none\n0   172.0            1            0\n3   112.0            1            0\n6   175.0            1            0\n7   167.0            0            1\n8    96.0            0            1",
      "text/html": "<div>\n<style scoped>\n    .dataframe tbody tr th:only-of-type {\n        vertical-align: middle;\n    }\n\n    .dataframe tbody tr th {\n        vertical-align: top;\n    }\n\n    .dataframe thead th {\n        text-align: right;\n    }\n</style>\n<table border=\"1\" class=\"dataframe\">\n  <thead>\n    <tr style=\"text-align: right;\">\n      <th></th>\n      <th>height</th>\n      <th>gender_male</th>\n      <th>gender_none</th>\n    </tr>\n  </thead>\n  <tbody>\n    <tr>\n      <th>0</th>\n      <td>172.0</td>\n      <td>1</td>\n      <td>0</td>\n    </tr>\n    <tr>\n      <th>3</th>\n      <td>112.0</td>\n      <td>1</td>\n      <td>0</td>\n    </tr>\n    <tr>\n      <th>6</th>\n      <td>175.0</td>\n      <td>1</td>\n      <td>0</td>\n    </tr>\n    <tr>\n      <th>7</th>\n      <td>167.0</td>\n      <td>0</td>\n      <td>1</td>\n    </tr>\n    <tr>\n      <th>8</th>\n      <td>96.0</td>\n      <td>0</td>\n      <td>1</td>\n    </tr>\n  </tbody>\n</table>\n</div>"
     },
     "execution_count": 45,
     "metadata": {},
     "output_type": "execute_result"
    }
   ],
   "source": [
    "# We can then concatenate these new columns onto the old dataset and proceed as before\n",
    "df_gender = pd.concat([df_no_hutts.height, gender], axis=1)\n",
    "df_gender.head()"
   ],
   "metadata": {
    "collapsed": false,
    "pycharm": {
     "name": "#%%\n"
    }
   }
  },
  {
   "cell_type": "code",
   "execution_count": 46,
   "outputs": [
    {
     "name": "stderr",
     "output_type": "stream",
     "text": [
      "c:\\users\\robert.mansfield\\appdata\\local\\programs\\python\\python39\\lib\\site-packages\\sklearn\\base.py:443: UserWarning: X has feature names, but LinearRegression was fitted without feature names\n",
      "  warnings.warn(\n"
     ]
    }
   ],
   "source": [
    "# Train the new model!\n",
    "# Now split the data into training and test sets. Check shape again.\n",
    "x_train, x_test, mass_train, mass_test = train_test_split(df_gender, df_no_hutts.mass, test_size=0.20)\n",
    "\n",
    "mod_3 = LinearRegression()\n",
    "mod_3.fit(x_train.to_numpy(), mass_train.to_numpy())\n",
    "\n",
    "preds = mod_3.predict(x_test)"
   ],
   "metadata": {
    "collapsed": false,
    "pycharm": {
     "name": "#%%\n"
    }
   }
  },
  {
   "cell_type": "code",
   "execution_count": 47,
   "outputs": [
    {
     "data": {
      "text/plain": "{'mean_squared_error': 94.60360567743022,\n 'root_mean_squared_error': 9.726438488852445,\n 'mean_absolute_error': 6.390971167874046}"
     },
     "execution_count": 47,
     "metadata": {},
     "output_type": "execute_result"
    }
   ],
   "source": [
    "# Thoughts?\n",
    "\n",
    "{\n",
    " \"mean_squared_error\": mean_squared_error(mass_test, preds),\n",
    " \"root_mean_squared_error\": mean_squared_error(mass_test, preds, squared=False),\n",
    " \"mean_absolute_error\": mean_absolute_error(mass_test, preds)\n",
    "}"
   ],
   "metadata": {
    "collapsed": false,
    "pycharm": {
     "name": "#%%\n"
    }
   }
  },
  {
   "cell_type": "markdown",
   "source": [
    "## Your task\n",
    "Can you take the above and create species features in the original data (the one *with* Jabba). Let's see if we can't make things better. Feel free to use gender as well if you fancy."
   ],
   "metadata": {
    "collapsed": false
   }
  },
  {
   "cell_type": "code",
   "execution_count": null,
   "outputs": [],
   "source": [],
   "metadata": {
    "collapsed": false,
    "pycharm": {
     "name": "#%%\n"
    }
   }
  },
  {
   "cell_type": "code",
   "execution_count": null,
   "outputs": [],
   "source": [],
   "metadata": {
    "collapsed": false,
    "pycharm": {
     "name": "#%%\n"
    }
   }
  }
 ],
 "metadata": {
  "kernelspec": {
   "display_name": "Python 3 (ipykernel)",
   "language": "python",
   "name": "python3"
  },
  "language_info": {
   "codemirror_mode": {
    "name": "ipython",
    "version": 3
   },
   "file_extension": ".py",
   "mimetype": "text/x-python",
   "name": "python",
   "nbconvert_exporter": "python",
   "pygments_lexer": "ipython3",
   "version": "3.8.12"
  }
 },
 "nbformat": 4,
 "nbformat_minor": 1
}